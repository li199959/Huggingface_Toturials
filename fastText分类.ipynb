{
  "nbformat": 4,
  "nbformat_minor": 0,
  "metadata": {
    "colab": {
      "provenance": [],
      "authorship_tag": "ABX9TyPYVCe3GIcndINQfJ2HWCS0",
      "include_colab_link": true
    },
    "kernelspec": {
      "name": "python3",
      "display_name": "Python 3"
    },
    "language_info": {
      "name": "python"
    }
  },
  "cells": [
    {
      "cell_type": "markdown",
      "metadata": {
        "id": "view-in-github",
        "colab_type": "text"
      },
      "source": [
        "<a href=\"https://colab.research.google.com/github/li199959/Huggingface_Toturials/blob/main/fastText%E5%88%86%E7%B1%BB.ipynb\" target=\"_parent\"><img src=\"https://colab.research.google.com/assets/colab-badge.svg\" alt=\"Open In Colab\"/></a>"
      ]
    },
    {
      "cell_type": "code",
      "source": [
        "!pip install fasttext==0.9.2\n"
      ],
      "metadata": {
        "colab": {
          "base_uri": "https://localhost:8080/"
        },
        "id": "JqugUhjE5oKI",
        "outputId": "86ca93c4-b89d-4d03-9059-afdec0dccaa3"
      },
      "execution_count": 1,
      "outputs": [
        {
          "output_type": "stream",
          "name": "stdout",
          "text": [
            "Looking in indexes: https://pypi.org/simple, https://us-python.pkg.dev/colab-wheels/public/simple/\n",
            "Requirement already satisfied: fasttext==0.9.2 in /usr/local/lib/python3.10/dist-packages (0.9.2)\n",
            "Requirement already satisfied: pybind11>=2.2 in /usr/local/lib/python3.10/dist-packages (from fasttext==0.9.2) (2.10.4)\n",
            "Requirement already satisfied: setuptools>=0.7.0 in /usr/local/lib/python3.10/dist-packages (from fasttext==0.9.2) (67.7.2)\n",
            "Requirement already satisfied: numpy in /usr/local/lib/python3.10/dist-packages (from fasttext==0.9.2) (1.22.4)\n"
          ]
        }
      ]
    },
    {
      "cell_type": "code",
      "source": [
        "import fasttext\n"
      ],
      "metadata": {
        "id": "Waz4NiSpzUXq"
      },
      "execution_count": 2,
      "outputs": []
    },
    {
      "cell_type": "code",
      "source": [
        "import csv"
      ],
      "metadata": {
        "id": "iAI1tJKm1odo"
      },
      "execution_count": 3,
      "outputs": []
    },
    {
      "cell_type": "code",
      "source": [
        "# 设置训练参数\n",
        "lr = 0.1  # 学习率\n",
        "epoch = 10  # 训练轮数\n",
        "dim = 100  # 特征向量维度\n",
        "word_ngrams = 4  # 词语的n-gram特征\n",
        "bucket = 2000000  # bucket数，用于哈希技巧加速训练\n",
        "\n",
        "# 设置数据文件路径\n",
        "train_data_path = \"train.csv\"  # 根据实际情况修改文件路径\n",
        "test_data_path = \"test.csv\"  # 根据实际情况修改文件路径"
      ],
      "metadata": {
        "id": "_qaf3DYR1rVw"
      },
      "execution_count": 7,
      "outputs": []
    },
    {
      "cell_type": "code",
      "source": [
        "# 加载训练数据\n",
        "train_data = []\n",
        "with open(train_data_path, 'r', encoding='utf-8') as file:\n",
        "    csv_reader = csv.reader(file)\n",
        "    for row in csv_reader:\n",
        "        text, label = row[0].split('\\t')[0], row[0].split('\\t')[1]\n",
        "        train_data.append(f\"{text} __label__{label}\")"
      ],
      "metadata": {
        "id": "LrbxeP2g1uBg"
      },
      "execution_count": 8,
      "outputs": []
    },
    {
      "cell_type": "code",
      "source": [
        "# 保存训练数据到文件\n",
        "train_file_path = \"train.txt\"\n",
        "with open(train_file_path, 'w', encoding='utf-8') as file:\n",
        "    file.write('\\n'.join(train_data))"
      ],
      "metadata": {
        "id": "b-yhCnNl4AqI"
      },
      "execution_count": 9,
      "outputs": []
    },
    {
      "cell_type": "code",
      "source": [
        "# 训练FastText模型\n",
        "model = fasttext.train_supervised(input=train_file_path, lr=lr, epoch=epoch, dim=dim, wordNgrams=word_ngrams, bucket=bucket)\n"
      ],
      "metadata": {
        "id": "tguFy3Vr4EYg"
      },
      "execution_count": 10,
      "outputs": []
    },
    {
      "cell_type": "code",
      "source": [
        "# 保存模型\n",
        "model.save_model(\"model.bin\")\n",
        "print(\"模型已保存\")"
      ],
      "metadata": {
        "colab": {
          "base_uri": "https://localhost:8080/"
        },
        "id": "F-f4bsTu-hku",
        "outputId": "459053aa-fdc9-4bf6-afcf-7025a3e5bcfc"
      },
      "execution_count": 11,
      "outputs": [
        {
          "output_type": "stream",
          "name": "stdout",
          "text": [
            "模型已保存\n"
          ]
        }
      ]
    },
    {
      "cell_type": "code",
      "source": [
        "# 加载训练好的模型\n",
        "model = fasttext.load_model(\"model.bin\")  # 根据实际情况修改模型文件路径\n"
      ],
      "metadata": {
        "colab": {
          "base_uri": "https://localhost:8080/"
        },
        "id": "gjfI-149-xA-",
        "outputId": "cf8ed3d5-c64c-4b48-feec-ef39ef9f127d"
      },
      "execution_count": 12,
      "outputs": [
        {
          "output_type": "stream",
          "name": "stderr",
          "text": [
            "Warning : `load_model` does not return WordVectorModel or SupervisedModel any more, but a `FastText` object which is very similar.\n"
          ]
        }
      ]
    },
    {
      "cell_type": "code",
      "source": [
        "# 加载测试数据\n",
        "test_data = []\n",
        "test_labels = []\n",
        "with open(test_data_path, 'r', encoding='utf-8') as file:\n",
        "    csv_reader = csv.reader(file)\n",
        "    for row in csv_reader:\n",
        "        text, label = row[0].split('\\t')[0], row[0].split('\\t')[1]\n",
        "        test_data.append(text)\n",
        "        test_labels.append(label)"
      ],
      "metadata": {
        "id": "RmM59SMI-1pz"
      },
      "execution_count": 13,
      "outputs": []
    },
    {
      "cell_type": "code",
      "source": [
        "# 进行分类预测并计算准确率\n",
        "correct_count = 0\n",
        "total_count = len(test_data)\n",
        "for text, true_label in zip(test_data, test_labels):\n",
        "    predicted_label = model.predict(text)[0][0][9:]  # 去除预测结果前缀 \"__label__\"\n",
        "    print(predicted_label)\n",
        "    if predicted_label == true_label:\n",
        "        correct_count += 1\n",
        "\n",
        "accuracy = correct_count / total_count\n",
        "print(f\"Accuracy: {accuracy:.5f}\")"
      ],
      "metadata": {
        "colab": {
          "base_uri": "https://localhost:8080/"
        },
        "id": "ibE3kiEv-6sO",
        "outputId": "5be5fd45-16b5-4062-d5f7-90aed89caaa9"
      },
      "execution_count": 14,
      "outputs": [
        {
          "output_type": "stream",
          "name": "stdout",
          "text": [
            "0\n",
            "2\n",
            "0\n",
            "0\n",
            "0\n",
            "0\n",
            "2\n",
            "0\n",
            "1\n",
            "0\n",
            "0\n",
            "0\n",
            "0\n",
            "2\n",
            "0\n",
            "0\n",
            "0\n",
            "0\n",
            "0\n",
            "0\n",
            "0\n",
            "0\n",
            "2\n",
            "0\n",
            "0\n",
            "2\n",
            "0\n",
            "0\n",
            "0\n",
            "0\n",
            "2\n",
            "0\n",
            "1\n",
            "0\n",
            "2\n",
            "2\n",
            "0\n",
            "1\n",
            "0\n",
            "0\n",
            "0\n",
            "0\n",
            "0\n",
            "0\n",
            "0\n",
            "2\n",
            "2\n",
            "0\n",
            "0\n",
            "2\n",
            "Accuracy: 0.76000\n"
          ]
        }
      ]
    },
    {
      "cell_type": "code",
      "source": [
        "# 加载测试数据\n",
        "test_data = []\n",
        "test_labels = []\n",
        "with open(test_data_path, 'r', encoding='utf-8') as file:\n",
        "    csv_reader = csv.reader(file)\n",
        "    for row in csv_reader:\n",
        "        text, label = row[0].split('\\t')[0], row[0].split('\\t')[1]\n",
        "        test_data.append(text)\n",
        "        test_labels.append(label)\n"
      ],
      "metadata": {
        "id": "P5Dpup_q739f"
      },
      "execution_count": 8,
      "outputs": []
    },
    {
      "cell_type": "code",
      "source": [
        "# 进行分类预测并计算准确率\n",
        "correct_count = 0\n",
        "total_count = len(test_data)\n",
        "for text, true_label in zip(test_data, test_labels):\n",
        "    predicted_label = model.predict(text)[0][0][9:]  # 去除预测结果前缀 \"__label__\"\n",
        "    if predicted_label == true_label:\n",
        "        correct_count += 1\n",
        "\n",
        "accuracy = correct_count / total_count\n",
        "print(f\"Accuracy: {accuracy:.5f}\")"
      ],
      "metadata": {
        "colab": {
          "base_uri": "https://localhost:8080/"
        },
        "id": "MuMu911a76TG",
        "outputId": "06359236-58a7-4252-e720-849846ffd21a"
      },
      "execution_count": 10,
      "outputs": [
        {
          "output_type": "stream",
          "name": "stdout",
          "text": [
            "Accuracy: 1.00000\n"
          ]
        }
      ]
    },
    {
      "cell_type": "code",
      "source": [
        "# 进行分类预测\n",
        "text = \"蓄电池腔加热器故障告警\"\n",
        "predicted_label = test_data.predict(text)\n",
        "\n",
        "print(predicted_label)  # 打印预测的标签"
      ],
      "metadata": {
        "colab": {
          "base_uri": "https://localhost:8080/",
          "height": 239
        },
        "id": "5jy9No0WzSZy",
        "outputId": "42b297e5-6ca4-478f-8725-149ee02c1fb0"
      },
      "execution_count": 12,
      "outputs": [
        {
          "output_type": "error",
          "ename": "AttributeError",
          "evalue": "ignored",
          "traceback": [
            "\u001b[0;31m---------------------------------------------------------------------------\u001b[0m",
            "\u001b[0;31mAttributeError\u001b[0m                            Traceback (most recent call last)",
            "\u001b[0;32m<ipython-input-12-9a695da0b76b>\u001b[0m in \u001b[0;36m<cell line: 3>\u001b[0;34m()\u001b[0m\n\u001b[1;32m      1\u001b[0m \u001b[0;31m# 进行分类预测\u001b[0m\u001b[0;34m\u001b[0m\u001b[0;34m\u001b[0m\u001b[0m\n\u001b[1;32m      2\u001b[0m \u001b[0mtext\u001b[0m \u001b[0;34m=\u001b[0m \u001b[0;34m\"蓄电池腔加热器故障告警\"\u001b[0m\u001b[0;34m\u001b[0m\u001b[0;34m\u001b[0m\u001b[0m\n\u001b[0;32m----> 3\u001b[0;31m \u001b[0mpredicted_label\u001b[0m \u001b[0;34m=\u001b[0m \u001b[0mtest_data\u001b[0m\u001b[0;34m.\u001b[0m\u001b[0mpredict\u001b[0m\u001b[0;34m(\u001b[0m\u001b[0mtext\u001b[0m\u001b[0;34m)\u001b[0m\u001b[0;34m\u001b[0m\u001b[0;34m\u001b[0m\u001b[0m\n\u001b[0m\u001b[1;32m      4\u001b[0m \u001b[0;34m\u001b[0m\u001b[0m\n\u001b[1;32m      5\u001b[0m \u001b[0mprint\u001b[0m\u001b[0;34m(\u001b[0m\u001b[0mpredicted_label\u001b[0m\u001b[0;34m)\u001b[0m  \u001b[0;31m# 打印预测的标签\u001b[0m\u001b[0;34m\u001b[0m\u001b[0;34m\u001b[0m\u001b[0m\n",
            "\u001b[0;31mAttributeError\u001b[0m: 'list' object has no attribute 'predict'"
          ]
        }
      ]
    },
    {
      "cell_type": "code",
      "source": [],
      "metadata": {
        "id": "ig0IsslYzS_Z"
      },
      "execution_count": null,
      "outputs": []
    }
  ]
}